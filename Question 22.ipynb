{
 "cells": [
  {
   "cell_type": "markdown",
   "id": "e38fc09a",
   "metadata": {},
   "source": [
    "Question 22\n"
   ]
  },
  {
   "cell_type": "code",
   "execution_count": 3,
   "id": "f2ee4c0a",
   "metadata": {},
   "outputs": [
    {
     "name": "stdout",
     "output_type": "stream",
     "text": [
      "2\n",
      "4\n"
     ]
    }
   ],
   "source": [
    "import sqlite3\n",
    "conn = sqlite3.connect(':memory:')\n",
    "cur = conn.cursor()\n",
    "cur.execute('''\n",
    "CREATE TABLE Weather (\n",
    "    id INTEGER PRIMARY KEY,\n",
    "    recordDate DATE,\n",
    "    temperature INTEGER)\n",
    "    ''')\n",
    "cur.execute('''\n",
    "INSERT INTO Weather (id, recordDate, temperature) VALUES\n",
    "(1, '2015-01-01', 10),\n",
    "(2, '2015-01-02', 25),\n",
    "(3, '2015-01-03', 20),\n",
    "(4,'2015-01-04' , 30)\n",
    "''')\n",
    "conn.commit()\n",
    "cur.execute('''\n",
    "SELECT w1.id\n",
    "FROM Weather w1\n",
    "JOIN Weather w2\n",
    "ON w1.recordDate = \n",
    "date(w2.recordDate,'+1 day')\n",
    "Where w1.temperature >\n",
    "w2.temperature\n",
    "''')\n",
    "results = cur.fetchall()\n",
    "for row in results:\n",
    "    print(row[0])\n",
    "\n",
    "conn.close()\n"
   ]
  },
  {
   "cell_type": "code",
   "execution_count": null,
   "id": "220d28df",
   "metadata": {},
   "outputs": [],
   "source": []
  }
 ],
 "metadata": {
  "kernelspec": {
   "display_name": "Python 3 (ipykernel)",
   "language": "python",
   "name": "python3"
  },
  "language_info": {
   "codemirror_mode": {
    "name": "ipython",
    "version": 3
   },
   "file_extension": ".py",
   "mimetype": "text/x-python",
   "name": "python",
   "nbconvert_exporter": "python",
   "pygments_lexer": "ipython3",
   "version": "3.11.5"
  }
 },
 "nbformat": 4,
 "nbformat_minor": 5
}
